{
 "cells": [
  {
   "cell_type": "code",
   "execution_count": 4,
   "metadata": {},
   "outputs": [
    {
     "name": "stdout",
     "output_type": "stream",
     "text": [
      "My list is :  [2, 3, 4, 5, 6]\n"
     ]
    }
   ],
   "source": [
    "def listfunction(length, start ):\n",
    "    my_list = []\n",
    "    for i in range (length):\n",
    "        my_list.append(start + i)\n",
    "    return my_list \n",
    "\n",
    "result = listfunction(5 , 2)\n",
    "print(\"My list is : \" , result)\n"
   ]
  },
  {
   "cell_type": "code",
   "execution_count": 16,
   "metadata": {},
   "outputs": [
    {
     "name": "stdout",
     "output_type": "stream",
     "text": [
      "FizzBuzz\n"
     ]
    }
   ],
   "source": [
    "def fizzfunction(x):\n",
    "    if x%3==0 and x%5==0 :\n",
    "        print(\"FizzBuzz\")\n",
    "    elif x%3==0:\n",
    "        print(\"Fizz\")\n",
    "    elif x%5==0:\n",
    "        print(\"Buzz\")\n",
    "    \n",
    "\n",
    "fizzfunction(15)\n"
   ]
  },
  {
   "cell_type": "code",
   "execution_count": null,
   "metadata": {},
   "outputs": [],
   "source": []
  },
  {
   "cell_type": "code",
   "execution_count": 17,
   "metadata": {},
   "outputs": [
    {
     "name": "stdout",
     "output_type": "stream",
     "text": [
      "Reserved string :  mahda\n"
     ]
    }
   ],
   "source": [
    "def reversefunction(x):\n",
    "    reversed_string = \"\"\n",
    "    index = len(x) -1\n",
    "    while index >=0 :\n",
    "        reversed_string += x[index]\n",
    "        index -= 1\n",
    "    print (\"Reserved string : \" , reversed_string )\n",
    "\n",
    "x=input(\"Enter your string : \")\n",
    "reversefunction(x)"
   ]
  },
  {
   "cell_type": "code",
   "execution_count": 47,
   "metadata": {},
   "outputs": [
    {
     "name": "stdout",
     "output_type": "stream",
     "text": [
      "Valid data entry.\n",
      "Username :  adham\n",
      "E-mail :  adham@outlook.com\n"
     ]
    }
   ],
   "source": [
    "def userdata():\n",
    "    flag = 1\n",
    "    while True:\n",
    "        if flag : \n",
    "            name = input(\"Enter your name : \")\n",
    "            if name.isdigit() or name==\"\":\n",
    "                print(\"Invalid name !,please try again\")\n",
    "                continue\n",
    "            flag = 0\n",
    "\n",
    "\n",
    "        email = input(\"Enter your email : \")\n",
    "        #validation = ['a-z' , 'A-Z'  ] + ['@' , 'outlook' , 'gmail' , '.com']\n",
    "        valid = ['@gmail.com' , '@yahoo.com' , '@outlook.com']\n",
    "        for v in valid:\n",
    "            if v in email :\n",
    "                print(\"Valid data entry.\")\n",
    "                print(\"Username : \" , name)\n",
    "                print(\"E-mail : \" , email)\n",
    "                break\n",
    "        else:\n",
    "            print(\"Invalid email ,please try again\")\n",
    "            continue\n",
    "    \n",
    "        break    \n",
    "\n",
    "userdata()"
   ]
  },
  {
   "cell_type": "code",
   "execution_count": 36,
   "metadata": {},
   "outputs": [
    {
     "name": "stdout",
     "output_type": "stream",
     "text": [
      "My string is :  abdulrahmanabcd\n",
      "My Longest Sub String is :  abcd\n"
     ]
    }
   ],
   "source": [
    "def alphaorder_function():\n",
    "    my_string = input(\"Enter a string: \")\n",
    "    longest_substring = \"\"\n",
    "    print(\"My string is : \", my_string)\n",
    "    sub_string = \"\"\n",
    "    sub_string = my_string[0]\n",
    "    for i in range(len(my_string)-1):\n",
    "        if my_string[i] <= my_string[i + 1]:\n",
    "            sub_string += my_string[i+1]\n",
    "            if len(sub_string) >= len(longest_substring):\n",
    "                longest_substring = sub_string\n",
    "        else:\n",
    "            sub_string = my_string[i + 1]\n",
    "    print(\"My Longest Sub String is : \", longest_substring)\n",
    "\n",
    "alphaorder_function()"
   ]
  },
  {
   "cell_type": "code",
   "execution_count": 42,
   "metadata": {},
   "outputs": [
    {
     "name": "stdout",
     "output_type": "stream",
     "text": [
      "My numbers :  1\n",
      "My numbers :  2\n",
      "My numbers :  3\n",
      "My numbers :  4\n",
      "My numbers :  5\n",
      "My numbers :  done\n",
      "The Total =  15\n",
      "The Numbers Count =  5\n",
      "The Numbers Average =  3.0\n"
     ]
    }
   ],
   "source": [
    "def numbersfunction():\n",
    "    total = 0\n",
    "    count = 0\n",
    "    while True:\n",
    "        n = input(\"Insert a number : \")\n",
    "        print(\"My numbers : \" , n)\n",
    "        if n ==\"done\":\n",
    "            print(\"The Total = \" , total)\n",
    "            print(\"The Numbers Count = \" , count)\n",
    "            print(\"The Numbers Average = \" , total/count)\n",
    "            break\n",
    "        elif n.isdigit() :\n",
    "            total +=int(n) \n",
    "            count +=1\n",
    "        else :\n",
    "            print(\"Inavlid entry,please insert an integer!\")\n",
    "            continue\n",
    "numbersfunction()"
   ]
  },
  {
   "cell_type": "code",
   "execution_count": 73,
   "metadata": {},
   "outputs": [
    {
     "name": "stdout",
     "output_type": "stream",
     "text": [
      "c___\n",
      "c___\n",
      "c_t_\n",
      "c_ty\n",
      "c_ty\n",
      "city\n",
      "Congratulations Adham ! <3\n"
     ]
    }
   ],
   "source": [
    "mywords_set = {\"barca\", \"city\", \"paris\", \"madrid\" }\n",
    "randomword = mywords_set.pop().lower()      # to extract a random word from the set\n",
    "name = input(\"Enter your name: \").capitalize()\n",
    "\n",
    "emptyword =list()                    # an empty list to make '_'  before inserting the letters\n",
    "for i in range(len(randomword)):\n",
    "    emptyword += \"_\"\n",
    "\n",
    "newword =\"\"\n",
    "i = 0\n",
    "while i <  7:\n",
    "    alpha = input(\"Enter a letter: \").lower()\n",
    "    if alpha in randomword:\n",
    "        c = randomword.index(alpha)  #determine the position of the letter in the random word\n",
    "        emptyword[c] = alpha         # put the letter in that position in the empty word\n",
    "        newword = \"\".join(emptyword) # transfer the (emtpy word) from a list to a string and put it in (new word)\n",
    "        print(newword)\n",
    "    else:\n",
    "        print(\"Try again !\")\n",
    "\n",
    "    if newword == randomword:    \n",
    "        print(\"Congratulations\" , name , \"! <3\")\n",
    "        break\n",
    "    i +=1        # increasing the i in while loop by 1 each trial of the 7 trials"
   ]
  }
 ],
 "metadata": {
  "kernelspec": {
   "display_name": "Python 3",
   "language": "python",
   "name": "python3"
  },
  "language_info": {
   "codemirror_mode": {
    "name": "ipython",
    "version": 3
   },
   "file_extension": ".py",
   "mimetype": "text/x-python",
   "name": "python",
   "nbconvert_exporter": "python",
   "pygments_lexer": "ipython3",
   "version": "3.13.0"
  }
 },
 "nbformat": 4,
 "nbformat_minor": 2
}
