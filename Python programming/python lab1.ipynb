{
 "cells": [
  {
   "cell_type": "code",
   "execution_count": 1,
   "metadata": {
    "colab": {
     "base_uri": "https://localhost:8080/"
    },
    "id": "epvcRSKsEMfg",
    "outputId": "d008e45b-60bf-4848-a0f5-28c70c5e46ff"
   },
   "outputs": [
    {
     "name": "stdout",
     "output_type": "stream",
     "text": [
      "Enter your string : adham\n",
      "Reserved string :  mahda\n"
     ]
    }
   ],
   "source": [
    "user_input = input(\"Enter your string : \")\n",
    "reversed_string = \"\"\n",
    "index = len(user_input) -1\n",
    "while index >=0 :\n",
    "  reversed_string += user_input[index]\n",
    "  index -= 1\n",
    "print (\"Reserved string : \" , reversed_string )"
   ]
  },
  {
   "cell_type": "code",
   "execution_count": null,
   "metadata": {
    "colab": {
     "base_uri": "https://localhost:8080/"
    },
    "id": "fabklIeeG5SC",
    "outputId": "1e8942fc-6ace-4afe-f856-a7c0cdc2e4ad"
   },
   "outputs": [
    {
     "name": "stdout",
     "output_type": "stream",
     "text": [
      "vowels letters :  0\n",
      "consonants letters :  5\n"
     ]
    }
   ],
   "source": [
    "user_input = input(\"Enter your string : \")\n",
    "vowels = \"aeoiu\"\n",
    "vowels_count = 0\n",
    "consonants_count = 0\n",
    "index = 0\n",
    "while index < len(user_input) :\n",
    "  x = user_input[index]\n",
    "  if x.lower() in vowels :\n",
    "    vowels_count +=1\n",
    "  else:\n",
    "    consonants_count +=1\n",
    "  index += 1\n",
    "print(\"vowels letters : \" , vowels_count)\n",
    "print(\"consonants letters : \" , consonants_count)"
   ]
  },
  {
   "cell_type": "code",
   "execution_count": 32,
   "metadata": {
    "colab": {
     "base_uri": "https://localhost:8080/"
    },
    "id": "Y-803MiKKH1Q",
    "outputId": "a6af753f-1724-47d1-b38d-810acb896b16"
   },
   "outputs": [
    {
     "name": "stdout",
     "output_type": "stream",
     "text": [
      "barca\n",
      "barca\n",
      "barca\n",
      "barca\n",
      "barca\n"
     ]
    }
   ],
   "source": [
    "user_input = input(\"Enter your string : \")\n",
    "repeat_number = int(input(\"Enter the repeating no. of string : \"))\n",
    "index = 0\n",
    "while index < repeat_number :\n",
    "  print(user_input)\n",
    "  index +=1"
   ]
  },
  {
   "cell_type": "code",
   "execution_count": 4,
   "metadata": {
    "colab": {
     "base_uri": "https://localhost:8080/"
    },
    "id": "Oa5Tig1oNQW5",
    "outputId": "c58baf28-2d22-4bed-9311-33645e019e7d"
   },
   "outputs": [
    {
     "name": "stdout",
     "output_type": "stream",
     "text": [
      "0\n",
      "2\n",
      "4\n",
      "6\n",
      "8\n",
      "10\n",
      "12\n",
      "14\n",
      "16\n",
      "18\n",
      "20\n",
      "22\n",
      "24\n",
      "26\n",
      "28\n",
      "30\n",
      "32\n",
      "34\n",
      "36\n",
      "38\n",
      "40\n",
      "42\n",
      "44\n",
      "46\n",
      "48\n",
      "50\n",
      "52\n",
      "54\n",
      "56\n",
      "58\n",
      "60\n",
      "62\n",
      "64\n",
      "66\n",
      "68\n",
      "70\n",
      "72\n",
      "74\n",
      "76\n",
      "78\n",
      "80\n",
      "82\n",
      "84\n",
      "86\n",
      "88\n",
      "90\n",
      "92\n",
      "94\n",
      "96\n",
      "98\n",
      "100\n",
      "102\n",
      "104\n",
      "106\n",
      "108\n",
      "110\n",
      "112\n",
      "114\n",
      "116\n",
      "118\n"
     ]
    }
   ],
   "source": [
    "x =0\n",
    "while x <120 :\n",
    "  if x % 2 == 0:\n",
    "    print (x)\n",
    "  x +=1"
   ]
  },
  {
   "cell_type": "code",
   "execution_count": 34,
   "metadata": {
    "colab": {
     "base_uri": "https://localhost:8080/"
    },
    "id": "OYddYcRIOPO1",
    "outputId": "081c5b1f-4084-48c4-93b8-493b04512b60"
   },
   "outputs": [
    {
     "name": "stdout",
     "output_type": "stream",
     "text": [
      "Sum of all even numbers =  600\n"
     ]
    }
   ],
   "source": [
    "limit = input(\"Enter your limit number : \")\n",
    "if limit.isdigit() :\n",
    "  n = int(limit)\n",
    "even_numbers_sum = 0\n",
    "index =2\n",
    "while index < n :\n",
    "  even_numbers_sum += index\n",
    "  index +=2\n",
    "print(\"Sum of all even numbers = \" , even_numbers_sum)"
   ]
  },
  {
   "cell_type": "code",
   "execution_count": 42,
   "metadata": {
    "colab": {
     "base_uri": "https://localhost:8080/"
    },
    "id": "rxliPQXXUp48",
    "outputId": "a43e04f6-75d9-49f0-f385-406f91cc8bca"
   },
   "outputs": [
    {
     "name": "stdout",
     "output_type": "stream",
     "text": [
      "20\n",
      "The sequence :  20, 19, 18, 17, 16, 15, 14, 13, 12, 11, 10, 9, 8, 7, 6, 5, 4, 3, 2, 1, \n"
     ]
    }
   ],
   "source": [
    "user_input = input(\"Enter your number : \")\n",
    "print(user_input)\n",
    "if user_input.isdigit() :\n",
    "  n = int(user_input)\n",
    "  sequence =\"\"\n",
    "  index = n\n",
    "  while index >= 1 :\n",
    "      sequence += str(index)\n",
    "      sequence += \", \"\n",
    "      index -= 1\n",
    "  print(\"The sequence : \" , sequence)\n",
    "\n",
    "  \n",
    "else:\n",
    "  print(\"input is not valid \")\n"
   ]
  },
  {
   "cell_type": "code",
   "execution_count": 43,
   "metadata": {
    "colab": {
     "base_uri": "https://localhost:8080/"
    },
    "id": "YW8cf7EOXsD_",
    "outputId": "c9c60d0a-10b1-41d7-8e3b-e03a66a2151f"
   },
   "outputs": [
    {
     "name": "stdout",
     "output_type": "stream",
     "text": [
      "My sentence :      Sjskhfjksh Dkjasfhkasfhasfh Jkhadsjkhdkjashf\n"
     ]
    }
   ],
   "source": [
    "user_input = input(\"Enter your string : \")\n",
    "capitalized_string = \"\"\n",
    "index = 0\n",
    "while index < len(user_input):\n",
    "\n",
    "  if index ==0 or user_input[index-1] == \" \":\n",
    "    capitalized_string += user_input[index].upper()\n",
    "  else:\n",
    "    capitalized_string += user_input[index]\n",
    "  index +=1\n",
    "print(\"My sentence : \" , capitalized_string)"
   ]
  },
  {
   "cell_type": "code",
   "execution_count": 44,
   "metadata": {
    "colab": {
     "base_uri": "https://localhost:8080/"
    },
    "id": "AeJ1vOdpb7qW",
    "outputId": "2131dc28-e3d6-4a5f-aa14-e5ba37d1f286"
   },
   "outputs": [
    {
     "name": "stdout",
     "output_type": "stream",
     "text": [
      "my number is :  50\n"
     ]
    }
   ],
   "source": [
    "while True :\n",
    "  user_input = input(\"enter positive integer : \")\n",
    "  if user_input.isdigit() and int(user_input) >0 :\n",
    "    print (\"my number is : \" , user_input)\n",
    "    break\n",
    "  else :\n",
    "    print(\"invalid entry , please try again..\")"
   ]
  },
  {
   "cell_type": "code",
   "execution_count": 47,
   "metadata": {
    "colab": {
     "base_uri": "https://localhost:8080/"
    },
    "id": "-pbdcpGdhXBF",
    "outputId": "961d2bac-2e0a-421e-bf60-ffded0fced65"
   },
   "outputs": [],
   "source": [
    "user_input = input(\"enter your number : \")\n",
    "if user_input.isdigit() :\n",
    "  n = int(user_input)\n",
    "  factorial = 1\n",
    "  while n > 0 :\n",
    "    factorial *= n\n",
    "    n -= 1\n",
    "  print (\"factorial : \" , factorial)\n"
   ]
  },
  {
   "cell_type": "code",
   "execution_count": 48,
   "metadata": {
    "colab": {
     "base_uri": "https://localhost:8080/"
    },
    "id": "k3g7kSOmlLIE",
    "outputId": "6f48f6df-b789-4c2b-a1e4-3b147de3e23e"
   },
   "outputs": [
    {
     "name": "stdout",
     "output_type": "stream",
     "text": [
      "Reversed number :  2569\n"
     ]
    }
   ],
   "source": [
    "user_input = input(\"Enter your number : \")\n",
    "if user_input.isdigit() :\n",
    "  n = int(user_input)\n",
    "  reversed_no = 0\n",
    "  while n > 0 :\n",
    "    reversed_no *=  10\n",
    "    reversed_no += n % 10\n",
    "    n = n // 10\n",
    "  print(\"Reversed number : \" , reversed_no)"
   ]
  },
  {
   "cell_type": "code",
   "execution_count": 1,
   "metadata": {
    "id": "yl2HEEONmwLL"
   },
   "outputs": [
    {
     "name": "stdout",
     "output_type": "stream",
     "text": [
      "invalid entry , please try again..\n",
      "invalid entry , please try again..\n",
      "invalid entry , please try again..\n",
      "invalid entry , please try again..\n",
      "password is correct \n"
     ]
    }
   ],
   "source": [
    "my_password = \"12345678\"\n",
    "while True :\n",
    "  password = input(\"Enter your password : \")\n",
    "  if password == my_password :\n",
    "    print(\"password is correct \")\n",
    "    break\n",
    "  else :\n",
    "    print(\"invalid entry , please try again..\")"
   ]
  },
  {
   "cell_type": "code",
   "execution_count": 49,
   "metadata": {
    "id": "4KkCU6WEsz66"
   },
   "outputs": [
    {
     "name": "stdout",
     "output_type": "stream",
     "text": [
      "My number :  3213\n",
      "9640\n",
      "4820\n",
      "2410\n",
      "1205\n",
      "3616\n",
      "1808\n",
      "904\n",
      "452\n",
      "226\n",
      "113\n",
      "340\n",
      "170\n",
      "85\n",
      "256\n",
      "128\n",
      "64\n",
      "32\n",
      "16\n",
      "8\n",
      "4\n",
      "2\n",
      "1\n"
     ]
    }
   ],
   "source": [
    "user_input = input(\"Enter your number\")\n",
    "if user_input.isdigit() :\n",
    "  n = int(user_input)\n",
    "  print(\"My number : \" , user_input)\n",
    "  while n != 1:\n",
    "    if n % 2 == 0:\n",
    "      n //=2\n",
    "    else :\n",
    "      n = n*3 + 1\n",
    "    print(n)"
   ]
  },
  {
   "cell_type": "code",
   "execution_count": 51,
   "metadata": {},
   "outputs": [
    {
     "name": "stdout",
     "output_type": "stream",
     "text": [
      "Enter 5 numbers : \n",
      "Array in ascending order :  [10, 20, 30, 40, 50]\n",
      "Array in descending order :  [50, 40, 30, 20, 10]\n"
     ]
    }
   ],
   "source": [
    "arr = []\n",
    "print(\"Enter 5 numbers : \")\n",
    "for i in range(5):\n",
    "    user_input = input()\n",
    "    if user_input.isdigit() :\n",
    "        n = int(user_input)  \n",
    "    arr.append(n)\n",
    "\n",
    "asc = sorted(arr)\n",
    "des = sorted(arr , reverse=True)\n",
    "\n",
    "print(\"Array in ascending order : \" , asc )\n",
    "print(\"Array in descending order : \" , des )"
   ]
  },
  {
   "cell_type": "code",
   "execution_count": null,
   "metadata": {},
   "outputs": [
    {
     "name": "stdout",
     "output_type": "stream",
     "text": [
      "4\n"
     ]
    }
   ],
   "source": [
    "Sentence = \"we are in iti , we will finish iti in 9 months , iti is very intense , iti\"\n",
    "mycounter = Sentence.count(\"iti\")\n",
    "print(mycounter)\n"
   ]
  },
  {
   "cell_type": "code",
   "execution_count": 14,
   "metadata": {},
   "outputs": [
    {
     "name": "stdout",
     "output_type": "stream",
     "text": [
      "My brief :  mbrll\n"
     ]
    }
   ],
   "source": [
    "user_input = input(\"Enter your string : \")\n",
    "vowels = \"aeoiu\"\n",
    "brief = \"\"\n",
    "index = 0\n",
    "while index < len(user_input) :\n",
    "  x = user_input[index]\n",
    "  if x in vowels :\n",
    "    pass\n",
    "  else:\n",
    "    brief += x\n",
    "  index += 1\n",
    "\n",
    "print(\"My brief : \" , brief)"
   ]
  },
  {
   "cell_type": "code",
   "execution_count": 1,
   "metadata": {},
   "outputs": [
    {
     "name": "stdout",
     "output_type": "stream",
     "text": [
      "i love english and science subject in my school\n",
      "The locations of 'i' characters in the sentence :  [0, 11, 21, 35]\n"
     ]
    }
   ],
   "source": [
    "user_input = input(\"Enter your string : \")\n",
    "print(user_input)\n",
    "myl = list()\n",
    "for i in range(len(user_input)) :\n",
    "    if user_input[i] == \"i\":\n",
    "        myl.append(i)\n",
    "    #locations = user_input.index('i')\n",
    "   \n",
    "print(\"The locations of 'i' characters in the sentence : \" , myl)"
   ]
  },
  {
   "cell_type": "code",
   "execution_count": 1,
   "metadata": {},
   "outputs": [
    {
     "name": "stdout",
     "output_type": "stream",
     "text": [
      "My number is :  3\n",
      "My list is :  [[1], [2, 4], [3, 6, 9]]\n"
     ]
    }
   ],
   "source": [
    "user_input = int(input(\"Enter your number here : \"))\n",
    "print(\"My number is : \" , user_input)\n",
    "my_list = []\n",
    "for i in range (1 , user_input + 1):\n",
    "    my_sublist = []\n",
    "    for j in range (1 , i + 1):\n",
    "        my_sublist.append( i * j )\n",
    "    my_list.append(my_sublist)\n",
    "print(\"My list is : \" , my_list)"
   ]
  },
  {
   "cell_type": "code",
   "execution_count": 2,
   "metadata": {},
   "outputs": [
    {
     "name": "stdout",
     "output_type": "stream",
     "text": [
      "My number is :  4\n",
      "   *\n",
      "  **\n",
      " ***\n",
      "****\n"
     ]
    }
   ],
   "source": [
    "user_input = int(input(\"Enter your number : \"))\n",
    "print(\"My number is : \" , user_input)\n",
    "for i in range(1 , user_input +1):\n",
    "    for j in range(user_input -i):\n",
    "        print(\" \" , end=\"\")\n",
    "    for k in range(i):\n",
    "        print(\"*\" , end=\"\")\n",
    "    \n",
    "    print(\"\")\n"
   ]
  }
 ],
 "metadata": {
  "colab": {
   "provenance": []
  },
  "kernelspec": {
   "display_name": "Python 3",
   "name": "python3"
  },
  "language_info": {
   "codemirror_mode": {
    "name": "ipython",
    "version": 3
   },
   "file_extension": ".py",
   "mimetype": "text/x-python",
   "name": "python",
   "nbconvert_exporter": "python",
   "pygments_lexer": "ipython3",
   "version": "3.13.0"
  }
 },
 "nbformat": 4,
 "nbformat_minor": 0
}
