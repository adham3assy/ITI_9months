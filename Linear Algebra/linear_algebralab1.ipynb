{
 "cells": [
  {
   "cell_type": "code",
   "execution_count": 1,
   "metadata": {},
   "outputs": [],
   "source": [
    "import numpy as np\n",
    "from scipy.linalg import solve "
   ]
  },
  {
   "cell_type": "code",
   "execution_count": 3,
   "metadata": {},
   "outputs": [
    {
     "name": "stdout",
     "output_type": "stream",
     "text": [
      "[('ahmed', 175., '11th') ('mahmoud', 180., '10th') ('adham', 186., '12th')]\n"
     ]
    }
   ],
   "source": [
    "students= np.array([('adham' , 186 , '12th'),\n",
    "                   ('mahmoud' , 180 , '10th'),\n",
    "                   ('ahmed' , 175 , '11th')] , \n",
    "                   dtype=[('name' , 'U50'),('height' , 'f4'), ('class' , 'U30')])\n",
    "\n",
    "students_sorted = np.sort(students , order='height')\n",
    "print(students_sorted)"
   ]
  },
  {
   "cell_type": "code",
   "execution_count": 10,
   "metadata": {},
   "outputs": [
    {
     "name": "stdout",
     "output_type": "stream",
     "text": [
      "[19.46701571  1.44371728 -3.54973822 -1.50183246]\n"
     ]
    }
   ],
   "source": [
    "from scipy import linalg\n",
    "\n",
    "\n",
    "a = np.array([[1 , 2 , -3 , 2],\n",
    "              [2 , -5 , 4 , 9],\n",
    "              [-5 , 40 , -1 , -20],\n",
    "              [5 , -4 , -1 , 60] ])\n",
    "b = np.array([30 , 4 , -6 , 5 ])\n",
    "c = linalg.solve(a , b)\n",
    "print(c)\n",
    "#x + 2y - 3z + 2w = 30  \n",
    "#2x - 5y + 4z + 9w = 4\n",
    "#-5x + 40y - z - 20w = -6\n",
    "#5x - 4y - z + 60w = 5\n"
   ]
  },
  {
   "cell_type": "code",
   "execution_count": 21,
   "metadata": {},
   "outputs": [
    {
     "name": "stdout",
     "output_type": "stream",
     "text": [
      "L1 = 1.1\n"
     ]
    }
   ],
   "source": [
    "def L1(yhat, y):\n",
    "    loss = None\n",
    "    loss = np.sum(abs(yhat - y)) \n",
    "    return loss\n",
    "yhat = np.array([0.9 , 0.2 , 0.1 , 0.4 , 0.9])\n",
    "y    = np.array([1 , 0 , 0 , 1 , 1 ])\n",
    "l1_loss = L1(yhat , y)\n",
    "print(\"L1 = \" + str(l1_loss))"
   ]
  },
  {
   "cell_type": "code",
   "execution_count": 14,
   "metadata": {},
   "outputs": [
    {
     "name": "stdout",
     "output_type": "stream",
     "text": [
      "L2 = 0.43\n"
     ]
    }
   ],
   "source": [
    "def l2(yhat,y):\n",
    "    loss = None \n",
    "    loss = np.dot(y - yhat , y - yhat)\n",
    "    return loss\n",
    "\n",
    "yhat = np.array([.9, 0.2, 0.1, .4, .9])\n",
    "y    = np.array([1 ,  0 ,  0 ,  1, 1])\n",
    "l2_loss = l2(yhat,y)\n",
    "print(\"L2 = \" + str(l2_loss))"
   ]
  },
  {
   "cell_type": "code",
   "execution_count": 201,
   "metadata": {},
   "outputs": [
    {
     "name": "stdout",
     "output_type": "stream",
     "text": [
      "dot product using numpy =  0.0028357505798339844\n"
     ]
    }
   ],
   "source": [
    "import time \n",
    "a= np.random.randn(10000)\n",
    "b =np.random.randn(10000)\n",
    "t1 = time.time()\n",
    "for i in range (1000):\n",
    "    x = np.dot(a,b)\n",
    "t2=time.time()\n",
    "print(\"dot product using numpy = \" , t2-t1)"
   ]
  },
  {
   "cell_type": "code",
   "execution_count": 247,
   "metadata": {},
   "outputs": [
    {
     "name": "stdout",
     "output_type": "stream",
     "text": [
      "Using for loop =  0.0006296634674072266\n"
     ]
    }
   ],
   "source": [
    "import time \n",
    "a=np.random.randn(10000)\n",
    "b=np.random.randn(10000)\n",
    "\n",
    "x=0\n",
    "t1 = time.time()\n",
    "for i in range (1000):\n",
    "    x += a[i] * b[i]\n",
    "t2 = time.time()\n",
    "print(\"Using for loop = \" , t2-t1)"
   ]
  }
 ],
 "metadata": {
  "kernelspec": {
   "display_name": "Python 3",
   "language": "python",
   "name": "python3"
  },
  "language_info": {
   "codemirror_mode": {
    "name": "ipython",
    "version": 3
   },
   "file_extension": ".py",
   "mimetype": "text/x-python",
   "name": "python",
   "nbconvert_exporter": "python",
   "pygments_lexer": "ipython3",
   "version": "3.13.0"
  }
 },
 "nbformat": 4,
 "nbformat_minor": 2
}
